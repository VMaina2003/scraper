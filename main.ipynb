{
 "cells": [
  {
   "cell_type": "code",
   "execution_count": 1,
   "id": "9fb77bf9",
   "metadata": {},
   "outputs": [
    {
     "name": "stdout",
     "output_type": "stream",
     "text": [
      "Hello\n"
     ]
    }
   ],
   "source": [
    "print (\"Hello\")"
   ]
  },
  {
   "cell_type": "code",
   "execution_count": 8,
   "id": "ec751de3",
   "metadata": {},
   "outputs": [
    {
     "name": "stdout",
     "output_type": "stream",
     "text": [
      "An error occurred: Message: \n",
      "Stacktrace:\n",
      "\tGetHandleVerifier [0x0x7ff7a2affce5+79861]\n",
      "\tGetHandleVerifier [0x0x7ff7a2affd40+79952]\n",
      "\t(No symbol) [0x0x7ff7a287cada]\n",
      "\t(No symbol) [0x0x7ff7a28d4457]\n",
      "\t(No symbol) [0x0x7ff7a28d471c]\n",
      "\t(No symbol) [0x0x7ff7a2928217]\n",
      "\t(No symbol) [0x0x7ff7a28fcb1f]\n",
      "\t(No symbol) [0x0x7ff7a2924f8b]\n",
      "\t(No symbol) [0x0x7ff7a28fc8b3]\n",
      "\t(No symbol) [0x0x7ff7a28c5272]\n",
      "\t(No symbol) [0x0x7ff7a28c6043]\n",
      "\tGetHandleVerifier [0x0x7ff7a2dbba1d+2946349]\n",
      "\tGetHandleVerifier [0x0x7ff7a2db5c9a+2922410]\n",
      "\tGetHandleVerifier [0x0x7ff7a2dd5a27+3052855]\n",
      "\tGetHandleVerifier [0x0x7ff7a2b1aace+189918]\n",
      "\tGetHandleVerifier [0x0x7ff7a2b22a6f+222591]\n",
      "\tGetHandleVerifier [0x0x7ff7a2b08b04+116244]\n",
      "\tGetHandleVerifier [0x0x7ff7a2b08cb9+116681]\n",
      "\tGetHandleVerifier [0x0x7ff7a2aef098+11176]\n",
      "\tBaseThreadInitThunk [0x0x7ff87940e8d7+23]\n",
      "\tRtlUserThreadStart [0x0x7ff87a808d9c+44]\n",
      "\n"
     ]
    }
   ],
   "source": [
    "from selenium import webdriver\n",
    "from selenium.webdriver.chrome.service import Service\n",
    "from selenium.webdriver.common.by import By\n",
    "from selenium.webdriver.support.ui import WebDriverWait\n",
    "from selenium.webdriver.support import expected_conditions as EC\n",
    "import csv\n",
    "\n",
    "# Set up ChromeDriver service\n",
    "service = Service()\n",
    "driver = webdriver.Chrome(service=service)\n",
    "\n",
    "try:\n",
    "    # Open the website\n",
    "    driver.get(\"https://www.nse.co.ke/dataservices/market-statistics/\")\n",
    "\n",
    "    # Use WebDriverWait to safely wait for the Equities tab to be clickable\n",
    "    wait = WebDriverWait(driver, 10)\n",
    "    equities_tab = wait.until(EC.element_to_be_clickable((By.XPATH, \"//span[text()='Equities Statistics']\")))\n",
    "\n",
    "    # Click the tab\n",
    "    equities_tab.click()\n",
    "\n",
    "    # Wait for the content to load after clicking\n",
    "    wait.until(EC.presence_of_element_located((By.TAG_NAME, \"rowgroup\")))\n",
    "\n",
    "    # Open CSV file for writing\n",
    "    with open(\"Shares.csv\", \"w\", newline=\"\", encoding=\"utf-8\") as file:\n",
    "        writer = csv.writer(file)\n",
    "        writer.writerow([\"Company\", \"ISIN Code\", \"Volume\", \"Last Traded Price\", \"Change\"])\n",
    "\n",
    "        # Find the main container for the data rows, which is the <rowgroup>\n",
    "        row_group = driver.find_element(By.TAG_NAME, \"rowgroup\")\n",
    "\n",
    "        # Find all the rows (<row>) within the rowgroup\n",
    "        data_rows = row_group.find_elements(By.TAG_NAME, \"row\")\n",
    "\n",
    "        # Loop through each row and scrape the data\n",
    "        for row in data_rows:\n",
    "            cells = row.find_elements(By.CLASS_NAME, \"cell\")\n",
    "\n",
    "            if len(cells) >= 5:\n",
    "                company = cells[0].text\n",
    "                isin_code = cells[1].text\n",
    "                volume = cells[2].text\n",
    "                last_traded_price = cells[3].text\n",
    "                change = cells[4].text\n",
    "\n",
    "                writer.writerow([company, isin_code, volume, last_traded_price, change])\n",
    "\n",
    "except Exception as e:\n",
    "    print(f\"An error occurred: {e}\")\n",
    "\n",
    "finally:\n",
    "    # Always close the browser\n",
    "    driver.quit()"
   ]
  }
 ],
 "metadata": {
  "kernelspec": {
   "display_name": "Virtual",
   "language": "python",
   "name": "python3"
  },
  "language_info": {
   "codemirror_mode": {
    "name": "ipython",
    "version": 3
   },
   "file_extension": ".py",
   "mimetype": "text/x-python",
   "name": "python",
   "nbconvert_exporter": "python",
   "pygments_lexer": "ipython3",
   "version": "3.13.7"
  }
 },
 "nbformat": 4,
 "nbformat_minor": 5
}
